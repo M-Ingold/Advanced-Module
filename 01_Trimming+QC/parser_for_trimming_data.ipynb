{
 "cells": [
  {
   "cell_type": "code",
   "execution_count": 1,
   "id": "854f128c-9651-45c6-a81c-f384d08ce7f7",
   "metadata": {},
   "outputs": [],
   "source": [
    "import re\n",
    "import os\n",
    "import pysam\n",
    "import subprocess\n",
    "import numpy as np\n",
    "import pandas as pd\n",
    "from collections import OrderedDict\n",
    "from pprint import pprint"
   ]
  },
  {
   "cell_type": "code",
   "execution_count": 2,
   "id": "094a602a-b9a7-4b5a-802a-096177ec403f",
   "metadata": {},
   "outputs": [],
   "source": [
    "path = '../../analysis/GWAS_data/Final_BIG_GBS/trimmed_seqs'"
   ]
  },
  {
   "cell_type": "code",
   "execution_count": 3,
   "id": "c0472d7f-334d-43d5-bef5-1bd9a5b0fcb7",
   "metadata": {},
   "outputs": [],
   "source": [
    "def getFilePath(err):\n",
    "    '''\n",
    "    This function takes a path, removes the \"here\" path from it and returns a list containing the \n",
    "    absolute path of all 'BBDuk' output files within that path.\n",
    "    '''\n",
    "    # Extracting aligner from path to extract correct stats file later\n",
    "    pathList = []\n",
    "    for root, subfolder, file in os.walk(path):\n",
    "        # Excluding the \"here\" path ('.'). It is important to not execute the script from a path with\n",
    "        # different relative distance to the target path to not fail expected path depth\n",
    "        if root.count(os.sep) == 6:\n",
    "            # Concatenating the sample paths and the samtools stats output file\n",
    "            pathList.append(os.path.join(os.path.abspath(root), err))\n",
    "    return pathList"
   ]
  },
  {
   "cell_type": "markdown",
   "id": "be357da8-83f0-4bde-bfd9-ffdead79e5c4",
   "metadata": {},
   "source": [
    "# Checking for right trimmed reads"
   ]
  },
  {
   "cell_type": "code",
   "execution_count": 4,
   "id": "e1b514c7-a69f-4d52-baeb-810b0128d87b",
   "metadata": {},
   "outputs": [],
   "source": [
    "# Creating a list of absolute paths with all entries, one for each sample stat output file\n",
    "trimmedList = getFilePath('err-r.txt')\n",
    "\n",
    "valueList = []\n",
    "# Looping over files and extracting summary statistics\n",
    "for i in range(len(trimmedList)):\n",
    "    \n",
    "    # Extracting summary statistics\n",
    "    trimmedSN = subprocess.check_output(['grep ^Total {} | cut -f 2-'.format(trimmedList[i])], shell=True) # Extracting summary data for whole alignment\n",
    "    trimmedSN = trimmedSN.decode('utf-8') # Decoding byte string into UTF-8 character string\n",
    "    trimmedSN = trimmedSN.split('\\n')\n",
    "    del(trimmedSN[-1])\n",
    "    trimmedSN = trimmedSN[0]\n",
    "    valueList.append(trimmedSN[11:15])\n",
    "    \n",
    "#dirty fix for total removed read number having 2 digits in one file\n",
    "valueList[valueList.index('.00%')] = '0.00'"
   ]
  },
  {
   "cell_type": "code",
   "execution_count": 5,
   "id": "288d1f85-d275-44b9-b7d8-0f5e3b94e407",
   "metadata": {},
   "outputs": [],
   "source": [
    "for i in range(len(valueList)):\n",
    "    valueList[i] = float(valueList[i])\n",
    "myarrayright = np.array(valueList)"
   ]
  },
  {
   "cell_type": "code",
   "execution_count": 11,
   "id": "fcade773-7483-4198-881c-546c3e7e5aad",
   "metadata": {},
   "outputs": [
    {
     "data": {
      "text/plain": [
       "(0.0, 0.01, 0.0009375)"
      ]
     },
     "execution_count": 11,
     "metadata": {},
     "output_type": "execute_result"
    }
   ],
   "source": [
    "min(myarrayright),max(myarrayright),np.mean(myarrayright)"
   ]
  },
  {
   "cell_type": "markdown",
   "id": "6f4316b9-aa00-4284-8005-f0fa3e8e856f",
   "metadata": {},
   "source": [
    "# Checking for left trimmed reads"
   ]
  },
  {
   "cell_type": "code",
   "execution_count": 6,
   "id": "90d369c0-3fe0-48dc-9e59-e37e89883e08",
   "metadata": {},
   "outputs": [],
   "source": [
    "trimmedList = getFilePath('err-b.txt')\n",
    "\n",
    "valueList = []\n",
    "# Looping over files and extracting summary statistics\n",
    "for i in range(len(trimmedList)):\n",
    "    \n",
    "    # Extracting summary statistics\n",
    "    trimmedSN = subprocess.check_output(['grep ^Total {} | cut -f 2-'.format(trimmedList[i])], shell=True) # Extracting summary data for whole alignment\n",
    "    trimmedSN = trimmedSN.decode('utf-8') # Decoding byte string into UTF-8 character string\n",
    "    trimmedSN = trimmedSN.split('\\n')\n",
    "    del(trimmedSN[-1])\n",
    "    trimmedSN = trimmedSN[0]\n",
    "    valueList.append(trimmedSN[9:13])\n",
    "    \n",
    "#print(valueList)"
   ]
  },
  {
   "cell_type": "code",
   "execution_count": 7,
   "id": "75824745-ed9a-4ba0-a92f-4158cd81a53a",
   "metadata": {},
   "outputs": [],
   "source": [
    "for i in range(len(valueList)):\n",
    "    valueList[i] = float(valueList[i])\n",
    "myarrayleft = np.array(valueList)"
   ]
  },
  {
   "cell_type": "code",
   "execution_count": 12,
   "id": "75c2c2d7-905b-4898-86be-aca1ed4946e3",
   "metadata": {},
   "outputs": [
    {
     "data": {
      "text/plain": [
       "(0.0, 0.0, 0.0)"
      ]
     },
     "execution_count": 12,
     "metadata": {},
     "output_type": "execute_result"
    }
   ],
   "source": [
    "min(myarrayleft),max(myarrayleft),np.mean(myarrayleft)"
   ]
  },
  {
   "cell_type": "markdown",
   "id": "0e18b245-ca27-4963-afba-2b6999b51585",
   "metadata": {},
   "source": [
    "# Checking for quality trimmed reads"
   ]
  },
  {
   "cell_type": "code",
   "execution_count": 8,
   "id": "4db659d5-b090-47ef-95ec-d79cdda28619",
   "metadata": {},
   "outputs": [],
   "source": [
    "trimmedList = getFilePath('err-c.txt')\n",
    "\n",
    "valueList = []\n",
    "# Looping over files and extracting summary statistics\n",
    "for i in range(len(trimmedList)):\n",
    "    \n",
    "    # Extracting summary statistics\n",
    "    trimmedSN = subprocess.check_output(['grep ^Total {} | cut -f 2-'.format(trimmedList[i])], shell=True) # Extracting summary data for whole alignment\n",
    "    trimmedSN = trimmedSN.decode('utf-8') # Decoding byte string into UTF-8 character string\n",
    "    trimmedSN = trimmedSN.split('\\n')\n",
    "    del(trimmedSN[-1])\n",
    "    trimmedSN = trimmedSN[0]\n",
    "    valueList.append(trimmedSN[14:18])\n",
    "    \n",
    "#print(valueList)"
   ]
  },
  {
   "cell_type": "code",
   "execution_count": 9,
   "id": "6e64a4b5-b112-4eda-b254-80fdc4afd6bb",
   "metadata": {},
   "outputs": [],
   "source": [
    "for i in range(len(valueList)):\n",
    "    valueList[i] = float(valueList[i])\n",
    "myarrayquality = np.array(valueList)"
   ]
  },
  {
   "cell_type": "code",
   "execution_count": 13,
   "id": "40030fba-5eeb-49d2-983f-564627988397",
   "metadata": {},
   "outputs": [
    {
     "data": {
      "text/plain": [
       "(3.95, 5.07, 4.576770833333334)"
      ]
     },
     "execution_count": 13,
     "metadata": {},
     "output_type": "execute_result"
    }
   ],
   "source": [
    "min(myarrayquality),max(myarrayquality),np.mean(myarrayquality)"
   ]
  },
  {
   "cell_type": "code",
   "execution_count": null,
   "id": "c736daf9-4dc3-44bb-8424-6ae34b03c58f",
   "metadata": {},
   "outputs": [],
   "source": []
  }
 ],
 "metadata": {
  "kernelspec": {
   "display_name": "Python 3",
   "language": "python",
   "name": "python3"
  },
  "language_info": {
   "codemirror_mode": {
    "name": "ipython",
    "version": 3
   },
   "file_extension": ".py",
   "mimetype": "text/x-python",
   "name": "python",
   "nbconvert_exporter": "python",
   "pygments_lexer": "ipython3",
   "version": "3.6.9"
  }
 },
 "nbformat": 4,
 "nbformat_minor": 5
}
